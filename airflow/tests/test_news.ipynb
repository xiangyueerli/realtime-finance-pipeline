{
 "cells": [
  {
   "cell_type": "code",
   "execution_count": 2,
   "id": "7818b205",
   "metadata": {},
   "outputs": [],
   "source": [
    "\"\"\"\n",
    "Author: Chunyu Yan\n",
    "Date: 2025-07-20\n",
    "\"\"\"\n",
    "\n",
    "import sys\n",
    "import os\n",
    "project_root = os.path.abspath(os.path.join(os.getcwd(), \"..\"))  # .ipynb file\n",
    "sys.path.append(project_root)\n",
    "\n",
    "from collections import Counter\n",
    "from datetime import datetime\n",
    "from bson import ObjectId\n",
    "from datetime import datetime\n",
    "from db_utils import *"
   ]
  },
  {
   "cell_type": "code",
   "execution_count": null,
   "id": "9358e7ae",
   "metadata": {},
   "outputs": [],
   "source": [
    "merge_news()"
   ]
  },
  {
   "cell_type": "code",
   "execution_count": null,
   "id": "fdb8b9a2",
   "metadata": {},
   "outputs": [],
   "source": []
  }
 ],
 "metadata": {
  "kernelspec": {
   "display_name": "chunyu",
   "language": "python",
   "name": "python3"
  },
  "language_info": {
   "codemirror_mode": {
    "name": "ipython",
    "version": 3
   },
   "file_extension": ".py",
   "mimetype": "text/x-python",
   "name": "python",
   "nbconvert_exporter": "python",
   "pygments_lexer": "ipython3",
   "version": "3.8.20"
  }
 },
 "nbformat": 4,
 "nbformat_minor": 5
}
