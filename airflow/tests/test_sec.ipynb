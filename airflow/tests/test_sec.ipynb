{
 "cells": [
  {
   "cell_type": "code",
   "execution_count": null,
   "id": "ece74114",
   "metadata": {},
   "outputs": [],
   "source": [
    "\"\"\"\n",
    "Author: Chunyu Yan\n",
    "Date: 2025-07-15\n",
    "\"\"\"\n",
    "\n",
    "# Written by Chunyu\n",
    "# This file is for testing /data/seanchoi/airflow/db_utils/push_sec_reports.py and /data/seanchoi/airflow/db_utils/search_db.py\n",
    "\n",
    "import sys\n",
    "import os\n",
    "project_root = os.path.abspath(os.path.join(os.getcwd(), \"..\"))  # .ipynb file\n",
    "sys.path.append(project_root)\n",
    "\n",
    "from collections import Counter\n",
    "from datetime import datetime\n",
    "from bson import ObjectId\n",
    "from datetime import datetime\n",
    "from db_utils import *"
   ]
  },
  {
   "cell_type": "code",
   "execution_count": null,
   "id": "ee3fadec",
   "metadata": {},
   "outputs": [],
   "source": [
    "company_name = \"Amazon.com, Inc.\"\n",
    "results_ticker = list(filter_files(COMPANY_TICKER_DATA, {\"Company Name\": company_name}))\n",
    "results_ticker\n",
    "\n",
    "# NVIDIA Corporation"
   ]
  },
  {
   "cell_type": "code",
   "execution_count": null,
   "id": "56f4bbd2",
   "metadata": {},
   "outputs": [],
   "source": [
    "company_ticker_id = ObjectId(\"6765822dc2568cb07c25163e\")  # 示例 company_ticker_id\n",
    "start = datetime(2023, 1, 1)\n",
    "end = datetime(2025, 12, 31)\n",
    "\n",
    "quarter_reports = find_quarter_reports(\n",
    "    company_ticker_id=company_ticker_id,\n",
    "    start_date=start,\n",
    "    end_date=end\n",
    ")\n",
    "\n",
    "annual_reports = find_annual_reports(\n",
    "    company_ticker_id=company_ticker_id,\n",
    "    start_date=start,\n",
    "    end_date=end\n",
    ")\n",
    "\n",
    "transcripts = find_transcripts(\n",
    "    company_ticker_id=company_ticker_id,\n",
    "    start_date=start,\n",
    "    end_date=end\n",
    ")"
   ]
  },
  {
   "cell_type": "code",
   "execution_count": null,
   "id": "e90c8633",
   "metadata": {},
   "outputs": [],
   "source": [
    "len(quarter_reports), len(annual_reports), len(transcripts)"
   ]
  },
  {
   "cell_type": "code",
   "execution_count": null,
   "id": "f3c2ef94",
   "metadata": {},
   "outputs": [],
   "source": [
    "final_response = query_across_collections(\"Amazon.com, Inc.\", \"2022-01-01\", \"2026-01-01\")\n",
    "# ## to test news\n",
    "# final_response = query_across_collections(\"Motors Liquidation Co\", \"2002-01-01\", \"2023-01-01\")\n",
    "# print(final_response)"
   ]
  },
  {
   "cell_type": "code",
   "execution_count": null,
   "id": "a5293a19",
   "metadata": {},
   "outputs": [],
   "source": [
    "# save sec_reports to json file for better preview\n",
    "import bson.json_util\n",
    "import json, bson\n",
    "\n",
    "save_file = \"./final_response.json\"\n",
    "with open(save_file, \"w\", encoding=\"utf-8\") as f:\n",
    "    json.dump(final_response, f, default=bson.json_util.default, ensure_ascii=False, indent=2)"
   ]
  },
  {
   "cell_type": "code",
   "execution_count": null,
   "id": "fbe23482",
   "metadata": {},
   "outputs": [],
   "source": [
    "# save sec_reports to json file for better preview\n",
    "from db_utils import get_db, SEC_REPORT_COLLECTION, save_json\n",
    "\n",
    "_, db = get_db()\n",
    "collection = db[SEC_REPORT_COLLECTION]\n",
    "cursor = collection.find().sort(\"_id\", -1).limit(10)\n",
    "\n",
    "save_file = \"./sec_reports_sorted.json\"\n",
    "save_json(cursor, save_file)"
   ]
  }
 ],
 "metadata": {
  "kernelspec": {
   "display_name": "chunyu",
   "language": "python",
   "name": "python3"
  },
  "language_info": {
   "codemirror_mode": {
    "name": "ipython",
    "version": 3
   },
   "file_extension": ".py",
   "mimetype": "text/x-python",
   "name": "python",
   "nbconvert_exporter": "python",
   "pygments_lexer": "ipython3",
   "version": "3.8.20"
  }
 },
 "nbformat": 4,
 "nbformat_minor": 5
}
