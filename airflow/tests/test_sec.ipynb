{
 "cells": [
  {
   "cell_type": "code",
   "execution_count": null,
   "id": "ece74114",
   "metadata": {},
   "outputs": [],
   "source": [
    "# Written by Chunyu\n",
    "# This file is for testing /data/seanchoi/airflow/db_utils/push_sec_reports.py and /data/seanchoi/airflow/db_utils/search_db.py\n",
    "\n",
    "import sys\n",
    "import os\n",
    "project_root = os.path.abspath(os.path.join(os.getcwd(), \"..\"))  # .ipynb file\n",
    "sys.path.append(project_root)"
   ]
  },
  {
   "cell_type": "code",
   "execution_count": null,
   "id": "9ffd5922",
   "metadata": {},
   "outputs": [],
   "source": [
    "# push data into sec collection\n",
    "from db_utils import push_sec_report\n",
    "\n",
    "push_sec_report()"
   ]
  },
  {
   "cell_type": "code",
   "execution_count": null,
   "id": "218c21a7",
   "metadata": {},
   "outputs": [],
   "source": [
    "# save sec_reports to json file for better preview\n",
    "from db_utils import get_db, SEC_REPORT_COLLECTION, save_json\n",
    "\n",
    "_, db = get_db()\n",
    "collection = db[SEC_REPORT_COLLECTION]\n",
    "cursor = collection.find().sort(\"_id\", -1).limit(1)\n",
    "\n",
    "save_file = \"./sec_reports_sorted.json\"\n",
    "save_json(cursor, save_file)"
   ]
  },
  {
   "cell_type": "code",
   "execution_count": null,
   "id": "0828998f",
   "metadata": {},
   "outputs": [
    {
     "name": "stdout",
     "output_type": "stream",
     "text": [
      "2\n",
      "2023 10-K\n",
      "/data/seanchoi/airflow/data/SP500/sec/market/pdf/0001730168/2023-12-14.pdf\n",
      "avgo-20231029 0001730168 2023 FY FALSE http://fasb.org/us-gaap/2022#OtherAssetsNoncurrent http://fasb.org/us-gaap/2022#OtherAssetsNoncurrent http://fasb.org/us-gaap/2022#PropertyPlantAndEquipmentNet http://fasb.org/us-gaap/2022#PropertyPlantAndEquipmentNet http://fasb.org/us-gaap/2022#OtherLiabiliti\n",
      "===\n",
      "2024 10-K\n",
      "/data/seanchoi/airflow/data/SP500/sec/market/pdf/0001730168/2024-12-20.pdf\n",
      "avgo-20241103 0001730168 2024 FY FALSE http://fasb.org/us-gaap/2024#OtherAssetsNoncurrent http://fasb.org/us-gaap/2024#OtherAssetsNoncurrent http://fasb.org/us-gaap/2024#PropertyPlantAndEquipmentNet http://fasb.org/us-gaap/2024#PropertyPlantAndEquipmentNet http://fasb.org/us-gaap/2024#OtherLiabiliti\n",
      "===\n"
     ]
    }
   ],
   "source": [
    "# query sec reports based on conditions provided\n",
    "\n",
    "from db_utils import SEC_REPORT_COLLECTION, get_db, query_sec_reports\n",
    "\n",
    "# 示例：查询 Apple（CIK 320193）在 2022~2024 年的 10-K 报告\n",
    "_, db = get_db()\n",
    "collection = db[SEC_REPORT_COLLECTION]\n",
    "\n",
    "docs = query_sec_reports(\n",
    "    collection=collection,\n",
    "    cik=1730168,\n",
    "    start_year=2022,\n",
    "    end_year=2024,\n",
    "    report_type=\"10-K\",\n",
    "    full_text=False,   # 默认只返回 preview\n",
    "    fields=[\"year\", \"report_type\", \"txt_content\", \"pdf_path\"]  # 只返回这几个字段\n",
    ")   \n",
    "\n",
    "print(len(docs))\n",
    "\n",
    "for d in docs:\n",
    "    print(d[\"year\"], d[\"report_type\"])\n",
    "    print(d[\"pdf_path\"])\n",
    "    print(d[\"txt_content\"][:300])\n",
    "    print(\"===\")\n"
   ]
  },
  {
   "cell_type": "code",
   "execution_count": null,
   "id": "56f4bbd2",
   "metadata": {},
   "outputs": [],
   "source": []
  }
 ],
 "metadata": {
  "kernelspec": {
   "display_name": "chunyu",
   "language": "python",
   "name": "python3"
  },
  "language_info": {
   "codemirror_mode": {
    "name": "ipython",
    "version": 3
   },
   "file_extension": ".py",
   "mimetype": "text/x-python",
   "name": "python",
   "nbconvert_exporter": "python",
   "pygments_lexer": "ipython3",
   "version": "3.8.20"
  }
 },
 "nbformat": 4,
 "nbformat_minor": 5
}
