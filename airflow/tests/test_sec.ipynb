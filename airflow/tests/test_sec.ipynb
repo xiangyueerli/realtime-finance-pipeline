{
 "cells": [
  {
   "cell_type": "code",
   "execution_count": 1,
   "id": "ece74114",
   "metadata": {},
   "outputs": [],
   "source": [
    "# Written by Chunyu\n",
    "# This file is for testing /data/seanchoi/airflow/db_utils/push_sec_reports.py and /data/seanchoi/airflow/db_utils/search_db.py\n",
    "\n",
    "import sys\n",
    "import os\n",
    "project_root = os.path.abspath(os.path.join(os.getcwd(), \"..\"))  # .ipynb file\n",
    "sys.path.append(project_root)\n",
    "\n",
    "from collections import Counter\n",
    "from datetime import datetime\n",
    "from bson import ObjectId\n",
    "from datetime import datetime\n",
    "from db_utils import *"
   ]
  },
  {
   "cell_type": "code",
   "execution_count": 2,
   "id": "ee3fadec",
   "metadata": {},
   "outputs": [
    {
     "data": {
      "text/plain": [
       "[{'_id': ObjectId('6765822dc2568cb07c25163e'),\n",
       "  'Ticker': 'AMZN',\n",
       "  'Company Name': 'Amazon.com, Inc.',\n",
       "  'Industry': 'Internet Retail',\n",
       "  'Market Cap': '2,424.08B',\n",
       "  'metadata': {'uploaded_date': '2024-12-20'}}]"
      ]
     },
     "execution_count": 2,
     "metadata": {},
     "output_type": "execute_result"
    }
   ],
   "source": [
    "company_name = \"Amazon.com, Inc.\"\n",
    "results_ticker = list(filter_files(COMPANY_TICKER_DATA, {\"Company Name\": company_name}))\n",
    "results_ticker\n",
    "\n",
    "# NVIDIA Corporation"
   ]
  },
  {
   "cell_type": "code",
   "execution_count": 3,
   "id": "56f4bbd2",
   "metadata": {},
   "outputs": [],
   "source": [
    "company_ticker_id = ObjectId(\"6765822dc2568cb07c25163e\")  # 示例 company_ticker_id\n",
    "start = datetime(2023, 1, 1)\n",
    "end = datetime(2025, 12, 31)\n",
    "\n",
    "quarter_reports = find_quarter_reports(\n",
    "    company_ticker_id=company_ticker_id,\n",
    "    start_date=start,\n",
    "    end_date=end\n",
    ")\n",
    "\n",
    "annual_reports = find_annual_reports(\n",
    "    company_ticker_id=company_ticker_id,\n",
    "    start_date=start,\n",
    "    end_date=end\n",
    ")\n",
    "\n",
    "transcripts = find_transcripts(\n",
    "    company_ticker_id=company_ticker_id,\n",
    "    start_date=start,\n",
    "    end_date=end\n",
    ")"
   ]
  },
  {
   "cell_type": "code",
   "execution_count": 5,
   "id": "e90c8633",
   "metadata": {},
   "outputs": [
    {
     "data": {
      "text/plain": [
       "(7, 2, 5)"
      ]
     },
     "execution_count": 5,
     "metadata": {},
     "output_type": "execute_result"
    }
   ],
   "source": [
    "len(quarter_reports), len(annual_reports), len(transcripts)"
   ]
  },
  {
   "cell_type": "code",
   "execution_count": 6,
   "id": "f3c2ef94",
   "metadata": {},
   "outputs": [
    {
     "name": "stdout",
     "output_type": "stream",
     "text": [
      "ticker_id:  6765822dc2568cb07c25163e\n"
     ]
    }
   ],
   "source": [
    "final_response = query_across_collections(\"Amazon.com, Inc.\", \"2022-01-01\", \"2026-01-01\")\n",
    "# ## to test news\n",
    "# final_response = query_across_collections(\"Motors Liquidation Co\", \"2002-01-01\", \"2023-01-01\")\n",
    "# print(final_response)"
   ]
  },
  {
   "cell_type": "code",
   "execution_count": null,
   "id": "898a2a8f",
   "metadata": {},
   "outputs": [
    {
     "name": "stdout",
     "output_type": "stream",
     "text": [
      "========== 年报 (10-K) 信息 ==========\n",
      "总数量：2\n",
      "按年份分布（10-K）：\n",
      "  2024: 1 份\n",
      "  2025: 1 份\n",
      "\n",
      "========== 季报 (10-Q) 信息 ==========\n",
      "总数量：7\n",
      "按年份分布（10-Q）：\n",
      "  2023: 3 份\n",
      "  2024: 3 份\n",
      "  2025: 1 份\n",
      "季度分布（10-Q）：\n",
      "  Q2: 3 份\n",
      "  Q3: 2 份\n",
      "  Q4: 2 份\n",
      "\n",
      "========== 电话会议纪要 (Transcript) 信息 ==========\n",
      "总数量：5\n",
      "按年份分布（Transcript）：\n",
      "  2024: 3 份\n",
      "  2025: 2 份\n",
      "季度分布（Transcript）：\n",
      "  Q2: 2 份\n",
      "  Q3: 1 份\n",
      "  Q4: 1 份\n",
      "  Q1: 1 份\n",
      "会议类型分布：\n",
      "  未知: 5 份\n"
     ]
    }
   ],
   "source": [
    "def analyze_final_response(final_response):\n",
    "    print(\"========== 年报 (10-K) 信息 ==========\")\n",
    "    annual_reports = final_response.get(\"annual_reports\", [])\n",
    "    print(f\"总数量：{len(annual_reports)}\")\n",
    "\n",
    "    # 年份分布\n",
    "    annual_years = [r.get(\"year\") for r in annual_reports if \"year\" in r]\n",
    "    year_counter = Counter(annual_years)\n",
    "    print(\"按年份分布（10-K）：\")\n",
    "    for year, count in sorted(year_counter.items()):\n",
    "        print(f\"  {year}: {count} 份\")\n",
    "\n",
    "    print(\"\\n========== 季报 (10-Q) 信息 ==========\")\n",
    "    quarter_reports = final_response.get(\"quarter_reports\", [])\n",
    "    print(f\"总数量：{len(quarter_reports)}\")\n",
    "\n",
    "    # 年份分布\n",
    "    quarter_years = [r.get(\"year\") for r in quarter_reports if \"year\" in r]\n",
    "    quarter_counter = Counter(quarter_years)\n",
    "    print(\"按年份分布（10-Q）：\")\n",
    "    for year, count in sorted(quarter_counter.items()):\n",
    "        print(f\"  {year}: {count} 份\")\n",
    "\n",
    "    # 季度分布\n",
    "    quarters = [r.get(\"quarter\", \"缺失\") for r in quarter_reports]\n",
    "    quarter_freq = Counter(quarters)\n",
    "    print(\"季度分布（10-Q）：\")\n",
    "    for q, count in quarter_freq.items():\n",
    "        print(f\"  {q.upper()}: {count} 份\")\n",
    "        \n",
    "    print(\"\\n========== 电话会议纪要 (Transcript) 信息 ==========\")\n",
    "    transcripts = final_response.get(\"transcripts\", [])\n",
    "    print(f\"总数量：{len(transcripts)}\")\n",
    "\n",
    "    # 年份分布\n",
    "    transcript_years = [r.get(\"year\") for r in transcripts if \"year\" in r]\n",
    "    transcript_year_counter = Counter(transcript_years)\n",
    "    print(\"按年份分布（Transcript）：\")\n",
    "    for year, count in sorted(transcript_year_counter.items()):\n",
    "        print(f\"  {year}: {count} 份\")\n",
    "\n",
    "    # 季度分布\n",
    "    transcript_quarters = [r.get(\"quarter\", \"缺失\") for r in transcripts]\n",
    "    transcript_quarter_counter = Counter(transcript_quarters)\n",
    "    print(\"季度分布（Transcript）：\")\n",
    "    for q, count in transcript_quarter_counter.items():\n",
    "        print(f\"  {q.upper()}: {count} 份\")\n",
    "\n",
    "# 调用分析函数\n",
    "analyze_final_response(final_response)\n"
   ]
  },
  {
   "cell_type": "code",
   "execution_count": null,
   "id": "a5293a19",
   "metadata": {},
   "outputs": [],
   "source": [
    "# save sec_reports to json file for better preview\n",
    "import bson.json_util\n",
    "import json, bson\n",
    "\n",
    "save_file = \"./final_response.json\"\n",
    "with open(save_file, \"w\", encoding=\"utf-8\") as f:\n",
    "    json.dump(final_response, f, default=bson.json_util.default, ensure_ascii=False, indent=2)"
   ]
  },
  {
   "cell_type": "code",
   "execution_count": null,
   "id": "369c538b",
   "metadata": {},
   "outputs": [
    {
     "data": {
      "text/plain": [
       "[{'_id': ObjectId('6765822dc2568cb07c25163e'),\n",
       "  'Ticker': 'AMZN',\n",
       "  'Company Name': 'Amazon.com, Inc.',\n",
       "  'Industry': 'Internet Retail',\n",
       "  'Market Cap': '2,424.08B',\n",
       "  'metadata': {'uploaded_date': '2024-12-20'}}]"
      ]
     },
     "execution_count": 4,
     "metadata": {},
     "output_type": "execute_result"
    }
   ],
   "source": []
  },
  {
   "cell_type": "code",
   "execution_count": null,
   "id": "fbe23482",
   "metadata": {},
   "outputs": [],
   "source": [
    "# save sec_reports to json file for better preview\n",
    "from db_utils import get_db, SEC_REPORT_COLLECTION, save_json\n",
    "\n",
    "_, db = get_db()\n",
    "collection = db[SEC_REPORT_COLLECTION]\n",
    "cursor = collection.find().sort(\"_id\", -1).limit(10)\n",
    "\n",
    "save_file = \"./sec_reports_sorted.json\"\n",
    "save_json(cursor, save_file)"
   ]
  }
 ],
 "metadata": {
  "kernelspec": {
   "display_name": "chunyu",
   "language": "python",
   "name": "python3"
  },
  "language_info": {
   "codemirror_mode": {
    "name": "ipython",
    "version": 3
   },
   "file_extension": ".py",
   "mimetype": "text/x-python",
   "name": "python",
   "nbconvert_exporter": "python",
   "pygments_lexer": "ipython3",
   "version": "3.8.20"
  }
 },
 "nbformat": 4,
 "nbformat_minor": 5
}
