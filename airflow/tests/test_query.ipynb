{
 "cells": [
  {
   "cell_type": "code",
   "execution_count": 1,
   "id": "450b797f",
   "metadata": {},
   "outputs": [],
   "source": [
    "\"\"\"\n",
    "Author: Chunyu Yan\n",
    "Date: 2025-07-29\n",
    "Description:\n",
    "This file is a detailed demo for testing all the queries(data sources) in the Airflow project.\n",
    "\"\"\"\n",
    "from datetime import datetime\n",
    "import sys\n",
    "import os\n",
    "project_root = os.path.abspath(os.path.join(os.getcwd(), \"..\"))  # .ipynb file\n",
    "sys.path.append(project_root)\n",
    "\n",
    "from db_utils import *\n",
    "import json"
   ]
  },
  {
   "cell_type": "code",
   "execution_count": null,
   "id": "b73f98e9",
   "metadata": {},
   "outputs": [
    {
     "name": "stdout",
     "output_type": "stream",
     "text": [
      "ticker_id:  6765822dc2568cb07c251522\n"
     ]
    }
   ],
   "source": [
    "## Query across all collections\n",
    "# final_response = query_across_collections(\"Amazon.com, Inc.\", \"2022-01-01\", \"2026-01-01\")\n",
    "\n",
    "## due to limited price data, we test using one query existing in database as belows\n",
    "final_response = query_across_collections(\"American Airlines Group Inc.\", \"2015-01-01\", \"2020-01-01\")\n"
   ]
  },
  {
   "cell_type": "code",
   "execution_count": 3,
   "id": "01e58dff",
   "metadata": {},
   "outputs": [
    {
     "name": "stdout",
     "output_type": "stream",
     "text": [
      "========== Annual Reports (10-K) ==========\n",
      "Total: 0\n",
      "Year distribution (10-K):\n",
      "\n",
      "========== Quarterly Reports (10-Q) ==========\n",
      "Total: 0\n",
      "Year distribution (10-Q):\n",
      "Quarter distribution (10-Q):\n",
      "\n",
      "========== Earnings Call Transcripts ==========\n",
      "Total: 0\n",
      "Year distribution (Transcripts):\n",
      "Quarter distribution (Transcripts):\n",
      "\n",
      "========== News Articles ==========\n",
      "Total: 0\n",
      "Year distribution (News):\n",
      "\n",
      "========== Price Data ==========\n",
      "Total: 1 documents\n",
      "Year distribution (Price Data):\n",
      "  2015: 252 daily records\n",
      "  2016: 252 daily records\n",
      "  2017: 251 daily records\n",
      "  2018: 251 daily records\n",
      "  2019: 252 daily records\n",
      "\n",
      "========== Stock Ideas Articles ==========\n",
      "Total: 0\n",
      "Year distribution (Stock Ideas):\n",
      "Top 5 authors (by article count):\n"
     ]
    }
   ],
   "source": [
    "# output basic info of the final_response\n",
    "analyze_final_response(final_response)"
   ]
  },
  {
   "cell_type": "code",
   "execution_count": 4,
   "id": "7e8be920",
   "metadata": {},
   "outputs": [
    {
     "ename": "NameError",
     "evalue": "name 'json_content' is not defined",
     "output_type": "error",
     "traceback": [
      "\u001b[0;31m---------------------------------------------------------------------------\u001b[0m",
      "\u001b[0;31mNameError\u001b[0m                                 Traceback (most recent call last)",
      "Cell \u001b[0;32mIn[4], line 13\u001b[0m\n\u001b[1;32m     11\u001b[0m save_file \u001b[38;5;241m=\u001b[39m \u001b[38;5;124m\"\u001b[39m\u001b[38;5;124m./final_response.json\u001b[39m\u001b[38;5;124m\"\u001b[39m\n\u001b[1;32m     12\u001b[0m \u001b[38;5;28;01mwith\u001b[39;00m \u001b[38;5;28mopen\u001b[39m(save_file, \u001b[38;5;124m\"\u001b[39m\u001b[38;5;124mw\u001b[39m\u001b[38;5;124m\"\u001b[39m, encoding\u001b[38;5;241m=\u001b[39m\u001b[38;5;124m\"\u001b[39m\u001b[38;5;124mutf-8\u001b[39m\u001b[38;5;124m\"\u001b[39m) \u001b[38;5;28;01mas\u001b[39;00m f:\n\u001b[0;32m---> 13\u001b[0m     json\u001b[38;5;241m.\u001b[39mdump(\u001b[43mjson_content\u001b[49m, f, default\u001b[38;5;241m=\u001b[39mbson\u001b[38;5;241m.\u001b[39mjson_util\u001b[38;5;241m.\u001b[39mdefault, ensure_ascii\u001b[38;5;241m=\u001b[39m\u001b[38;5;28;01mFalse\u001b[39;00m, indent\u001b[38;5;241m=\u001b[39m\u001b[38;5;241m2\u001b[39m)\n",
      "\u001b[0;31mNameError\u001b[0m: name 'json_content' is not defined"
     ]
    }
   ],
   "source": [
    "# save sec_reports to json file for better preview\n",
    "import bson.json_util\n",
    "import json, bson\n",
    "\n",
    "# json_content = final_response['annual_reports']\n",
    "# json_content = final_response['quarter_reports']\n",
    "# json_content = final_response['transcripts']\n",
    "# json_content = final_response['news']\n",
    "# json_content = final_response['stock_ideas']\n",
    "\n",
    "save_file = \"./final_response.json\"\n",
    "with open(save_file, \"w\", encoding=\"utf-8\") as f:\n",
    "    json.dump(json_content, f, default=bson.json_util.default, ensure_ascii=False, indent=2)"
   ]
  },
  {
   "cell_type": "code",
   "execution_count": null,
   "id": "2f30ad02",
   "metadata": {},
   "outputs": [
    {
     "data": {
      "text/plain": [
       "[       open   close     high     low      volume  div_adj_factor as_of_date\n",
       " 585   54.28  53.910  54.6000  53.070  10756705.0        0.947503 2015-01-02\n",
       " 586   54.37  53.875  54.5400  53.340  11565004.0        0.947503 2015-01-05\n",
       " 587   54.27  53.040  54.4300  52.130  13772171.0        0.947503 2015-01-06\n",
       " 588   53.38  53.010  53.6500  52.120  10069816.0        0.947503 2015-01-07\n",
       " 589   53.48  53.660  54.2800  53.250   9672064.0        0.947503 2015-01-08\n",
       " ...     ...     ...      ...     ...         ...             ...        ...\n",
       " 1838  29.32  29.180  29.4300  29.100   2373608.0        0.996318 2019-12-24\n",
       " 1839  29.32  29.670  29.7100  29.260   4747397.0        0.996318 2019-12-26\n",
       " 1840  29.76  28.440  29.8092  28.360   8419552.0        0.996318 2019-12-27\n",
       " 1841  28.50  28.300  28.5320  28.065   4940611.0        0.996318 2019-12-30\n",
       " 1842  28.20  28.680  28.7900  28.190   4397331.0        0.996318 2019-12-31\n",
       " \n",
       " [1258 rows x 7 columns]]"
      ]
     },
     "execution_count": 4,
     "metadata": {},
     "output_type": "execute_result"
    }
   ],
   "source": [
    "# show the price_data\n",
    "final_response['price_data']"
   ]
  },
  {
   "cell_type": "code",
   "execution_count": null,
   "id": "0fbc2a40",
   "metadata": {},
   "outputs": [],
   "source": []
  }
 ],
 "metadata": {
  "kernelspec": {
   "display_name": "chunyu",
   "language": "python",
   "name": "python3"
  },
  "language_info": {
   "codemirror_mode": {
    "name": "ipython",
    "version": 3
   },
   "file_extension": ".py",
   "mimetype": "text/x-python",
   "name": "python",
   "nbconvert_exporter": "python",
   "pygments_lexer": "ipython3",
   "version": "3.8.20"
  }
 },
 "nbformat": 4,
 "nbformat_minor": 5
}
