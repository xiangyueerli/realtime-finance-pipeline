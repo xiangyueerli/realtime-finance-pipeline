{
 "cells": [
  {
   "cell_type": "code",
   "execution_count": null,
   "id": "450b797f",
   "metadata": {},
   "outputs": [],
   "source": [
    "\"\"\"\n",
    "Author: Chunyu Yan\n",
    "Date: 2025-07-29\n",
    "\"\"\"\n",
    "from datetime import datetime\n",
    "import sys\n",
    "import os\n",
    "project_root = os.path.abspath(os.path.join(os.getcwd(), \"..\"))  # .ipynb file\n",
    "sys.path.append(project_root)\n",
    "\n",
    "from db_utils import *\n",
    "import json\n",
    "\n",
    "results = find_stock_idea_articles(\n",
    "    company_name=\"Evolution AB (publ)\",\n",
    "    start_year=2015,\n",
    "    end_year=2024,\n",
    "    ticker_role=\"both\",\n",
    "    fuzzy=False\n",
    ")\n",
    "\n",
    "for r in results:\n",
    "    print(f\"{r['publish_date']} | {r['title']} | {r['author']}\")"
   ]
  },
  {
   "cell_type": "code",
   "execution_count": null,
   "id": "b73f98e9",
   "metadata": {},
   "outputs": [],
   "source": [
    "final_response = query_across_collections(\"Amazon.com, Inc.\", \"2022-01-01\", \"2026-01-01\")\n"
   ]
  },
  {
   "cell_type": "code",
   "execution_count": null,
   "id": "01e58dff",
   "metadata": {},
   "outputs": [],
   "source": [
    "analyze_final_response(final_response)"
   ]
  },
  {
   "cell_type": "code",
   "execution_count": null,
   "id": "7e8be920",
   "metadata": {},
   "outputs": [],
   "source": []
  }
 ],
 "metadata": {
  "kernelspec": {
   "display_name": "chunyu",
   "language": "python",
   "name": "python3"
  },
  "language_info": {
   "codemirror_mode": {
    "name": "ipython",
    "version": 3
   },
   "file_extension": ".py",
   "mimetype": "text/x-python",
   "name": "python",
   "nbconvert_exporter": "python",
   "pygments_lexer": "ipython3",
   "version": "3.8.20"
  }
 },
 "nbformat": 4,
 "nbformat_minor": 5
}
