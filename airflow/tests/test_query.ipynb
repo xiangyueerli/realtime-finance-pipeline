{
 "cells": [
  {
   "cell_type": "code",
   "execution_count": null,
   "id": "450b797f",
   "metadata": {},
   "outputs": [],
   "source": [
    "\"\"\"\n",
    "Author: Chunyu Yan\n",
    "Date: 2025-07-29\n",
    "Description:\n",
    "This file is a detailed demo for testing all the queries(data sources) in the Airflow project.\n",
    "\"\"\"\n",
    "from datetime import datetime\n",
    "import sys\n",
    "import os\n",
    "project_root = os.path.abspath(os.path.join(os.getcwd(), \"..\"))  # .ipynb file\n",
    "sys.path.append(project_root)\n",
    "\n",
    "from db_utils import *\n",
    "import json"
   ]
  },
  {
   "cell_type": "code",
   "execution_count": null,
   "id": "b73f98e9",
   "metadata": {},
   "outputs": [],
   "source": [
    "## Query across all collections\n",
    "final_response = query_across_collections(\"Amazon.com, Inc.\", \"2022-01-01\", \"2026-01-01\")\n",
    "\n",
    "## due to limited price data, we test using one query existing in database as belows\n",
    "# final_response = query_across_collections(\"American Airlines Group Inc.\", \"2015-01-01\", \"2020-01-01\")\n"
   ]
  },
  {
   "cell_type": "code",
   "execution_count": null,
   "id": "01e58dff",
   "metadata": {},
   "outputs": [],
   "source": [
    "# output basic info of the final_response\n",
    "analyze_final_response(final_response)"
   ]
  },
  {
   "cell_type": "code",
   "execution_count": null,
   "id": "d2c2d768",
   "metadata": {},
   "outputs": [],
   "source": [
    "for key, _ in final_response.items():\n",
    "    print(f\"Key: {key}\")\n",
    "    # print(f\"Response: {json.dumps(final_response[key], indent=2)}\")\n",
    "    # print(\"\\n\")"
   ]
  },
  {
   "cell_type": "code",
   "execution_count": null,
   "id": "7e8be920",
   "metadata": {},
   "outputs": [],
   "source": [
    "# save sec_reports to json file for better preview\n",
    "import bson.json_util\n",
    "import json, bson\n",
    "\n",
    "# json_content = final_response['annual_reports']\n",
    "# json_content = final_response['quarter_reports']\n",
    "# json_content = final_response['transcripts']\n",
    "# json_content = final_response['news']\n",
    "# json_content = final_response['stock_ideas']\n",
    "json_content = final_response['peer_data']\n",
    "\n",
    "save_file = \"./final_response.json\"\n",
    "with open(save_file, \"w\", encoding=\"utf-8\") as f:\n",
    "    json.dump(json_content, f, default=bson.json_util.default, ensure_ascii=False, indent=2)"
   ]
  },
  {
   "cell_type": "code",
   "execution_count": null,
   "id": "2f30ad02",
   "metadata": {},
   "outputs": [],
   "source": [
    "# show the price_data\n",
    "final_response['price_data']"
   ]
  },
  {
   "cell_type": "code",
   "execution_count": null,
   "id": "0fbc2a40",
   "metadata": {},
   "outputs": [],
   "source": []
  }
 ],
 "metadata": {
  "kernelspec": {
   "display_name": "chunyu",
   "language": "python",
   "name": "python3"
  },
  "language_info": {
   "codemirror_mode": {
    "name": "ipython",
    "version": 3
   },
   "file_extension": ".py",
   "mimetype": "text/x-python",
   "name": "python",
   "nbconvert_exporter": "python",
   "pygments_lexer": "ipython3",
   "version": "3.8.20"
  }
 },
 "nbformat": 4,
 "nbformat_minor": 5
}
