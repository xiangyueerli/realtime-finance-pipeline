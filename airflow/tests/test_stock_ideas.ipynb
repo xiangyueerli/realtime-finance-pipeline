{
 "cells": [
  {
   "cell_type": "code",
   "execution_count": 1,
   "id": "e401c1da",
   "metadata": {},
   "outputs": [],
   "source": [
    "import sys\n",
    "import os\n",
    "project_root = os.path.abspath(os.path.join(os.getcwd(), \"..\"))  # .ipynb file\n",
    "sys.path.append(project_root)\n",
    "\n",
    "from db_utils import merge_stock_idea_articles\n",
    "import json"
   ]
  },
  {
   "cell_type": "code",
   "execution_count": null,
   "id": "321da026",
   "metadata": {},
   "outputs": [
    {
     "name": "stdout",
     "output_type": "stream",
     "text": [
      "['Fund Holdings', 'Investing Ideas']\n"
     ]
    }
   ],
   "source": [
    "root = \"/data/seanchoi/airflow/data/stock_ideas\"\n",
    "merge_stock_idea_articles(root)"
   ]
  },
  {
   "cell_type": "code",
   "execution_count": null,
   "id": "2100bccc",
   "metadata": {},
   "outputs": [],
   "source": [
    "# save sec_reports to json file for better preview\n",
    "from db_utils import get_db, STOCK_IDEA_COLLECTION, save_json\n",
    "\n",
    "_, db = get_db()\n",
    "collection = db[STOCK_IDEA_COLLECTION]\n",
    "cursor = collection.find().sort(\"_id\", -1)\n",
    "\n",
    "save_file = \"./stock_ideas.json\"\n",
    "save_json(cursor, save_file)"
   ]
  }
 ],
 "metadata": {
  "kernelspec": {
   "display_name": "chunyu",
   "language": "python",
   "name": "python3"
  },
  "language_info": {
   "codemirror_mode": {
    "name": "ipython",
    "version": 3
   },
   "file_extension": ".py",
   "mimetype": "text/x-python",
   "name": "python",
   "nbconvert_exporter": "python",
   "pygments_lexer": "ipython3",
   "version": "3.8.20"
  }
 },
 "nbformat": 4,
 "nbformat_minor": 5
}
