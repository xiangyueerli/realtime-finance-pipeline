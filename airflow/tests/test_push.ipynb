{
 "cells": [
  {
   "cell_type": "code",
   "execution_count": 1,
   "id": "09ca5e6e",
   "metadata": {},
   "outputs": [],
   "source": [
    "\"\"\"\n",
    "Author: Chunyu Yan\n",
    "Date: 2025-07-30\n",
    "Description:\n",
    "This file is a detailed demo for testing all data sources push operations in the Airflow project.\n",
    "\"\"\"\n",
    "\n",
    "import sys\n",
    "import os\n",
    "project_root = os.path.abspath(os.path.join(os.getcwd(), \"..\"))  # .ipynb file\n",
    "sys.path.append(project_root)\n",
    "\n",
    "from collections import Counter\n",
    "from datetime import datetime\n",
    "from bson import ObjectId\n",
    "from datetime import datetime\n",
    "from db_utils import *"
   ]
  },
  {
   "cell_type": "code",
   "execution_count": null,
   "id": "e67e4588",
   "metadata": {},
   "outputs": [],
   "source": [
    "# sec push will be shown using airflow\n",
    "# sudo rm -r /data/seanchoi/airflow/data/SP500/sec/market/html\n",
    "# sudo rm -r /data/seanchoi/airflow/data/SP500/sec/market/pdf\n",
    "# sudo rm -r /data/seanchoi/airflow/data/SP500/sec/market/txt\n",
    "# set the constants.py\n",
    "# run the airflow DAG"
   ]
  },
  {
   "cell_type": "code",
   "execution_count": null,
   "id": "885b44bb",
   "metadata": {},
   "outputs": [],
   "source": [
    "# Test Earnings Call push\n",
    "# sudo rm -r /data/seanchoi/airflow/data/SP500/calls/market/txt\n",
    "\n",
    "merge_transcripts()"
   ]
  },
  {
   "cell_type": "code",
   "execution_count": null,
   "id": "a2273dfd",
   "metadata": {},
   "outputs": [],
   "source": [
    "# Test news push\n",
    "merge_news()"
   ]
  },
  {
   "cell_type": "code",
   "execution_count": null,
   "id": "1895adfb",
   "metadata": {},
   "outputs": [],
   "source": [
    "# Test price push\n",
    "merge_ticker_price()"
   ]
  },
  {
   "cell_type": "code",
   "execution_count": null,
   "id": "25f26837",
   "metadata": {},
   "outputs": [],
   "source": [
    "# Test Stock Ideas Articles\n",
    "# Data of 2024 has been pushed to MongoDB, 13096 data points\n",
    "# db.test_stock_ideas.count()\n",
    "\n",
    "# root = \"/data/seanchoi/airflow/data/stock_ideas\"\n",
    "# merge_stock_idea_articles(root)"
   ]
  },
  {
   "cell_type": "code",
   "execution_count": null,
   "id": "e92b9c3f",
   "metadata": {},
   "outputs": [],
   "source": []
  }
 ],
 "metadata": {
  "kernelspec": {
   "display_name": "chunyu",
   "language": "python",
   "name": "python3"
  },
  "language_info": {
   "codemirror_mode": {
    "name": "ipython",
    "version": 3
   },
   "file_extension": ".py",
   "mimetype": "text/x-python",
   "name": "python",
   "nbconvert_exporter": "python",
   "pygments_lexer": "ipython3",
   "version": "3.8.20"
  }
 },
 "nbformat": 4,
 "nbformat_minor": 5
}
