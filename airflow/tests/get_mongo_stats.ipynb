{
 "cells": [
  {
   "cell_type": "code",
   "execution_count": 1,
   "id": "4ee30965",
   "metadata": {},
   "outputs": [
    {
     "name": "stdout",
     "output_type": "stream",
     "text": [
      "✅ Collection statistics exported to collection_stats.csv\n"
     ]
    }
   ],
   "source": [
    "\"\"\"\n",
    "Author: Chunyu Yan\n",
    "Date: 2025-07-20\n",
    "\"\"\"\n",
    "\n",
    "import sys\n",
    "import os\n",
    "project_root = os.path.abspath(os.path.join(os.getcwd(), \"..\"))  # .ipynb file\n",
    "sys.path.append(project_root)\n",
    "\n",
    "from collections import Counter\n",
    "from datetime import datetime\n",
    "from bson import ObjectId\n",
    "from datetime import datetime\n",
    "from db_utils import *"
   ]
  },
  {
   "cell_type": "code",
   "execution_count": 2,
   "id": "5d04f743",
   "metadata": {},
   "outputs": [
    {
     "name": "stdout",
     "output_type": "stream",
     "text": [
      "✅ Collection statistics exported to collection_stats.csv\n"
     ]
    }
   ],
   "source": [
    "export_collection_stats_to_csv()"
   ]
  },
  {
   "cell_type": "markdown",
   "id": "20f76e67",
   "metadata": {},
   "source": [
    "| 字段名（Field Name）         | 含义说明（Description）                                                                 |\n",
    "|-----------------------------|------------------------------------------------------------------------------------------|\n",
    "| collection_name             | 集合名称（The name of the MongoDB collection）                                          |\n",
    "| document_count              | 文档总数（Total number of documents in the collection）                                 |\n",
    "| data_size_MB                | 文档数据总大小，单位为 MB。该值反映文档的逻辑体积，可能包含 padding，但**未压缩**<br>（Logical size of all documents, possibly including padding, **uncompressed**） |\n",
    "| storage_size_MB             | 实际磁盘占用大小，单位为 MB。表示 MongoDB 实际为集合分配的磁盘空间，可能经过**压缩**<br>（Actual space allocated on disk, possibly **compressed**, includes preallocated space） |\n",
    "| free_storage_size_MB        | 空闲可复用空间，单位为 MB。指 MongoDB 为集合预留但尚未使用的空间，可被新文档复用<br>（Free space available for reuse by future inserts） |\n",
    "| avg_document_size_bytes     | 平均每个文档的大小（单位为字节）。即 `data_size_MB` 除以文档总数<br>（Average size per document in bytes） |\n"
   ]
  },
  {
   "cell_type": "markdown",
   "id": "481b8dcb",
   "metadata": {},
   "source": [
    "```\n",
    "db.serverStatus().storageEngine\n",
    "{\n",
    "        \"name\" : \"wiredTiger\",\n",
    "        \"supportsCommittedReads\" : true,\n",
    "        \"oldestRequiredTimestampForCrashRecovery\" : Timestamp(0, 0),\n",
    "        \"supportsPendingDrops\" : true,\n",
    "        \"dropPendingIdents\" : NumberLong(0),\n",
    "        \"supportsSnapshotReadConcern\" : true,\n",
    "        \"readOnly\" : false,\n",
    "        \"persistent\" : true,\n",
    "        \"backupCursorOpen\" : false\n",
    "}\n",
    "```"
   ]
  }
 ],
 "metadata": {
  "kernelspec": {
   "display_name": "chunyu",
   "language": "python",
   "name": "python3"
  },
  "language_info": {
   "codemirror_mode": {
    "name": "ipython",
    "version": 3
   },
   "file_extension": ".py",
   "mimetype": "text/x-python",
   "name": "python",
   "nbconvert_exporter": "python",
   "pygments_lexer": "ipython3",
   "version": "3.8.20"
  }
 },
 "nbformat": 4,
 "nbformat_minor": 5
}
