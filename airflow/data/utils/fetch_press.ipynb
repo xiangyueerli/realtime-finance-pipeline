{
 "cells": [
  {
   "cell_type": "code",
   "execution_count": 1,
   "id": "d0b32375",
   "metadata": {},
   "outputs": [
    {
     "name": "stdout",
     "output_type": "stream",
     "text": [
      "       CIK Symbol\n",
      "0   804328   QCOM\n",
      "1    49826    ITW\n",
      "2   715957      D\n",
      "3  1018963    ATI\n",
      "4    46080    HAS\n",
      "         CIK Symbol\n",
      "544  1687229   INVH\n",
      "545  1057352   CSGP\n",
      "546  1389170   TRGP\n",
      "547   947484   ACGL\n",
      "548  1022671   STLD\n"
     ]
    }
   ],
   "source": [
    "# /data/seanchoi/airflow/data/constituents/market/sp500_total_constituents.csv\n",
    "# see the data\n",
    "import pandas as pd\n",
    "\n",
    "df = pd.read_csv('/data/seanchoi/airflow/data/constituents/market/sp500_total_constituents.csv')\n",
    "print(df.head())\n",
    "print(df.tail())"
   ]
  },
  {
   "cell_type": "code",
   "execution_count": 2,
   "id": "1e026c03",
   "metadata": {},
   "outputs": [
    {
     "name": "stdout",
     "output_type": "stream",
     "text": [
      "       CIK Symbol\n",
      "0   320193  AAPL \n",
      "1  1018724   AMZN\n",
      "2  1730168   AVGO\n",
      "3   909832  COST \n",
      "4  1652044   GOOG\n",
      "       CIK Symbol\n",
      "4  1652044   GOOG\n",
      "5   789019  MSFT \n",
      "6  1045810   NVDA\n",
      "7  1318605   TSLA\n",
      "8  1326801   META\n"
     ]
    }
   ],
   "source": [
    "# use example data\n",
    "import pandas as pd\n",
    "\n",
    "df = pd.read_csv('/data/seanchoi/airflow/data/constituents/market/test.csv')\n",
    "print(df.head())\n",
    "print(df.tail())"
   ]
  },
  {
   "cell_type": "code",
   "execution_count": 7,
   "id": "33f87802",
   "metadata": {},
   "outputs": [
    {
     "data": {
      "text/plain": [
       "['AMZN', 'AVGO', 'COST', 'GOOG', 'MSFT', 'NVDA', 'TSLA', 'META']"
      ]
     },
     "execution_count": 7,
     "metadata": {},
     "output_type": "execute_result"
    }
   ],
   "source": [
    "example_list = [s.strip() for s in df['Symbol']]\n",
    "example_list[1:]"
   ]
  },
  {
   "cell_type": "code",
   "execution_count": 8,
   "id": "6769a348",
   "metadata": {},
   "outputs": [
    {
     "name": "stdout",
     "output_type": "stream",
     "text": [
      "Fetching data for AAPL\n",
      "Fetching data for AMZN\n",
      "Fetching data for AVGO\n",
      "Fetching data for COST\n",
      "Fetching data for GOOG\n",
      "Fetching data for MSFT\n",
      "Fetching data for NVDA\n",
      "Fetching data for TSLA\n",
      "Fetching data for META\n"
     ]
    }
   ],
   "source": [
    "import http.client\n",
    "import os\n",
    "import time\n",
    "import json\n",
    "\n",
    "# API连接\n",
    "conn = http.client.HTTPSConnection(\"seeking-alpha.p.rapidapi.com\")\n",
    "headers = {\n",
    "    'x-rapidapi-key': \"5f6f5a7a6amsh1b0894a22655abep10ed0ejsn8b54f0b336f2\",\n",
    "    'x-rapidapi-host': \"seeking-alpha.p.rapidapi.com\"\n",
    "}\n",
    "\n",
    "# 保存路径\n",
    "save_dir = \"/data/seanchoi/airflow/data/press_data/raw_data\"\n",
    "os.makedirs(save_dir, exist_ok=True)\n",
    "\n",
    "# 遍历请求并保存\n",
    "for symbol in example_list:\n",
    "    print(f\"Fetching data for {symbol}\")\n",
    "    try:\n",
    "        endpoint = f\"/press-releases/v2/list?id={symbol}&size=20&number=1\"\n",
    "        conn.request(\"GET\", endpoint, headers=headers)\n",
    "        res = conn.getresponse()\n",
    "\n",
    "        if res.status != 200:\n",
    "            print(f\"Error {res.status} for {symbol}\")\n",
    "            continue\n",
    "\n",
    "        data = res.read().decode(\"utf-8\")\n",
    "        \n",
    "        # 保存为 JSON 文件\n",
    "        save_path = os.path.join(save_dir, f\"{symbol}.json\")\n",
    "        with open(save_path, 'w') as f:\n",
    "            json.dump(json.loads(data), f, indent=2)  # 格式化保存为结构化 JSON\n",
    "\n",
    "    except Exception as e:\n",
    "        print(f\"Failed for {symbol}: {e}\")\n",
    "    \n",
    "    time.sleep(1)  # 防止API限速\n"
   ]
  },
  {
   "cell_type": "code",
   "execution_count": null,
   "id": "56d1ff4e",
   "metadata": {},
   "outputs": [],
   "source": []
  }
 ],
 "metadata": {
  "kernelspec": {
   "display_name": "chunyu",
   "language": "python",
   "name": "python3"
  },
  "language_info": {
   "codemirror_mode": {
    "name": "ipython",
    "version": 3
   },
   "file_extension": ".py",
   "mimetype": "text/x-python",
   "name": "python",
   "nbconvert_exporter": "python",
   "pygments_lexer": "ipython3",
   "version": "3.8.20"
  }
 },
 "nbformat": 4,
 "nbformat_minor": 5
}
