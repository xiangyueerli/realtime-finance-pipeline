{
 "cells": [
  {
   "cell_type": "code",
   "execution_count": null,
   "id": "d0b32375",
   "metadata": {},
   "outputs": [],
   "source": [
    "# /data/seanchoi/airflow/data/constituents/market/sp500_total_constituents.csv\n",
    "# see the data\n",
    "import pandas as pd\n",
    "\n",
    "df = pd.read_csv('/data/seanchoi/airflow/data/constituents/market/sp500_total_constituents.csv')\n",
    "print(df.head())\n",
    "print(df.tail())"
   ]
  },
  {
   "cell_type": "code",
   "execution_count": null,
   "id": "1e026c03",
   "metadata": {},
   "outputs": [],
   "source": [
    "# use example data\n",
    "import pandas as pd\n",
    "\n",
    "df = pd.read_csv('/data/seanchoi/airflow/data/constituents/market/test.csv')\n",
    "print(df.head())\n",
    "print(df.tail())"
   ]
  },
  {
   "cell_type": "code",
   "execution_count": null,
   "id": "33f87802",
   "metadata": {},
   "outputs": [],
   "source": [
    "example_list = [s.strip() for s in df['Symbol']]\n",
    "example_list"
   ]
  },
  {
   "cell_type": "code",
   "execution_count": null,
   "id": "6769a348",
   "metadata": {},
   "outputs": [],
   "source": [
    "import http.client\n",
    "import os\n",
    "import time\n",
    "import json\n",
    "\n",
    "# API连接\n",
    "conn = http.client.HTTPSConnection(\"seeking-alpha.p.rapidapi.com\")\n",
    "headers = {\n",
    "    'x-rapidapi-key': \"5f6f5a7a6amsh1b0894a22655abep10ed0ejsn8b54f0b336f2\",\n",
    "    'x-rapidapi-host': \"seeking-alpha.p.rapidapi.com\"\n",
    "}\n",
    "\n",
    "# 保存路径\n",
    "save_dir = \"/data/seanchoi/airflow/data/peer_data/\"\n",
    "os.makedirs(save_dir, exist_ok=True)\n",
    "\n",
    "# 遍历请求并保存\n",
    "for symbol in example_list:\n",
    "    print(f\"Fetching data for {symbol}\")\n",
    "    try:\n",
    "        endpoint = f\"/symbols/get-peers?symbol={symbol}\"\n",
    "        conn.request(\"GET\", endpoint, headers=headers)\n",
    "        res = conn.getresponse()\n",
    "\n",
    "        if res.status != 200:\n",
    "            print(f\"Error {res.status} for {symbol}\")\n",
    "            continue\n",
    "\n",
    "        data = res.read().decode(\"utf-8\")\n",
    "        \n",
    "        # 保存为 JSON 文件\n",
    "        save_path = os.path.join(save_dir, f\"{symbol}.json\")\n",
    "        with open(save_path, 'w') as f:\n",
    "            json.dump(json.loads(data), f, indent=2)  # 格式化保存为结构化 JSON\n",
    "\n",
    "    except Exception as e:\n",
    "        print(f\"Failed for {symbol}: {e}\")\n",
    "    \n",
    "    time.sleep(1)  # 防止API限速\n"
   ]
  },
  {
   "cell_type": "code",
   "execution_count": null,
   "id": "7abf940f",
   "metadata": {},
   "outputs": [],
   "source": []
  }
 ],
 "metadata": {
  "kernelspec": {
   "display_name": "chunyu",
   "language": "python",
   "name": "python3"
  },
  "language_info": {
   "codemirror_mode": {
    "name": "ipython",
    "version": 3
   },
   "file_extension": ".py",
   "mimetype": "text/x-python",
   "name": "python",
   "nbconvert_exporter": "python",
   "pygments_lexer": "ipython3",
   "version": "3.8.20"
  }
 },
 "nbformat": 4,
 "nbformat_minor": 5
}
